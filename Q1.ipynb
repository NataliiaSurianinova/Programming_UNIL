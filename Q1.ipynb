{
 "cells": [
  {
   "cell_type": "markdown",
   "metadata": {},
   "source": [
    "# a)"
   ]
  },
  {
   "cell_type": "code",
   "execution_count": 1,
   "metadata": {},
   "outputs": [],
   "source": [
    "def OptionEval(S,K):\n",
    "    if (S>0) and (K>0):\n",
    "        return max(0, S - K)\n",
    "    else:\n",
    "        if (S<= 0):\n",
    "            print(\"Check the S\")\n",
    "        else :\n",
    "            print (\"Check the K\")   "
   ]
  },
  {
   "cell_type": "markdown",
   "metadata": {},
   "source": [
    "# b)"
   ]
  },
  {
   "cell_type": "code",
   "execution_count": 2,
   "metadata": {},
   "outputs": [],
   "source": [
    "list_K = [8000, 8500, 9000]\n",
    "list_S = [8200, 9700, 10000, 12100]\n",
    "\n",
    "for i in range(0, len(list_K)):\n",
    "    for j in range (0, len(list_S)):\n",
    "        ev = OptionEval(list_S[j],list_K[i])\n",
    "        print(\"Option value with parameters S = %1.0f\" %list_S[j] ,\" and K = %1.0f\"% list_K[i], \" equals %1.0f\\n\"%ev,sep = '', end = '')"
   ]
  },
  {
   "cell_type": "markdown",
   "metadata": {},
   "source": [
    "# c)"
   ]
  },
  {
   "cell_type": "code",
   "execution_count": 3,
   "metadata": {},
   "outputs": [],
   "source": [
    "import matplotlib.pyplot as plt"
   ]
  },
  {
   "cell_type": "code",
   "execution_count": 10,
   "metadata": {},
   "outputs": [
    {
     "name": "stdout",
     "output_type": "stream",
     "text": [
      "Enter K\n",
      "-1000\n",
      "Check the K\n"
     ]
    }
   ],
   "source": [
    "K = int(input(\"Enter K\\n\"))\n",
    "if (K>0):\n",
    "    x = [abs(K-1000),K, K+1000]\n",
    "    y = []\n",
    "    for i in range(0, len(x)):\n",
    "        y.append(OptionEval(x[i],K))\n",
    "        \n",
    "    plt.figure(figsize=(10,6))\n",
    "    plt.plot(x, y)\n",
    "    plt.ylabel('Inner value of European call option')\n",
    "    plt.grid()\n",
    "    plt.show()\n",
    "        \n",
    "else:\n",
    "    print(\"Check the K\")\n"
   ]
  }
 ],
 "metadata": {
  "kernelspec": {
   "display_name": "Python 3",
   "language": "python",
   "name": "python3"
  },
  "language_info": {
   "codemirror_mode": {
    "name": "ipython",
    "version": 3
   },
   "file_extension": ".py",
   "mimetype": "text/x-python",
   "name": "python",
   "nbconvert_exporter": "python",
   "pygments_lexer": "ipython3",
   "version": "3.7.4"
  }
 },
 "nbformat": 4,
 "nbformat_minor": 2
}

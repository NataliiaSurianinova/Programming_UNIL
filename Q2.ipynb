{
 "cells": [
  {
   "cell_type": "markdown",
   "metadata": {},
   "source": [
    "# a)"
   ]
  },
  {
   "cell_type": "code",
   "execution_count": 1,
   "metadata": {},
   "outputs": [],
   "source": [
    "import numpy as np\n",
    "import random\n",
    "random.seed(100)"
   ]
  },
  {
   "cell_type": "code",
   "execution_count": 2,
   "metadata": {},
   "outputs": [],
   "source": [
    "def OptionEvalPresent(S,K,r,T):\n",
    "    if (S>0) and (K>0):\n",
    "        return (max(0, S - K)*np.exp(-r*T))\n",
    "    else:\n",
    "        if (S<= 0):\n",
    "            print(\"Check the S\")\n",
    "        else :\n",
    "            print (\"Check the K\") "
   ]
  },
  {
   "cell_type": "code",
   "execution_count": 3,
   "metadata": {},
   "outputs": [],
   "source": [
    "def Estim (S0,K,r,sigma,T,n):\n",
    "    C_ar = []\n",
    "    for i in range (1,n+1):\n",
    "        z = np.random.normal(0, 1, 1)\n",
    "        s = S0*np.exp((r - sigma**2/2)*T + sigma*np.sqrt(T)*z)\n",
    "        c = OptionEvalPresent(s,K,r,T)\n",
    "        C_ar.append(c)\n",
    "    return np.average(C_ar)\n",
    "\n",
    "    \n"
   ]
  },
  {
   "cell_type": "markdown",
   "metadata": {},
   "source": [
    "# b)"
   ]
  },
  {
   "cell_type": "code",
   "execution_count": 4,
   "metadata": {},
   "outputs": [
    {
     "name": "stdout",
     "output_type": "stream",
     "text": [
      "Enter n\n",
      "100\n"
     ]
    }
   ],
   "source": [
    "K_list = [6000, 6500, 7000]\n",
    "S0_list = [8000, 8200, 9000]\n",
    "T_list = [1,2,4]\n",
    "r_list = [0.01, 0.02, 0.03]\n",
    "sigma = 0.2\n",
    "est = []\n",
    "n = int(input(\"Enter n\\n\"))\n",
    "for i in range(0, len(K_list)):\n",
    "    for j in range(0, len(S0_list)):\n",
    "        for t in range(0, len(T_list)):\n",
    "            for k in range(0, len(r_list)):\n",
    "                est.append(Estim(S0_list[j],K_list[i],r_list[k],sigma,T_list[t],n))\n",
    "\n",
    "                    "
   ]
  },
  {
   "cell_type": "markdown",
   "metadata": {},
   "source": [
    "# с)"
   ]
  },
  {
   "cell_type": "code",
   "execution_count": 7,
   "metadata": {},
   "outputs": [
    {
     "name": "stdout",
     "output_type": "stream",
     "text": [
      "Enter n\n",
      "100\n"
     ]
    }
   ],
   "source": [
    "my_file = open('results.txt', 'w')\n",
    "text_for_file = '  K      S      T      r    sigma      Cn\\n'\n",
    "my_file.write(text_for_file)\n",
    "text_for_file = '=============================================\\n'\n",
    "my_file.write(text_for_file)\n",
    "n = int(input(\"Enter n\\n\"))\n",
    "for i in range(0, len(K_list)):\n",
    "    for j in range(0, len(S0_list)):\n",
    "        for t in range(0, len(T_list)):\n",
    "            for k in range(0, len(r_list)):\n",
    "                est=Estim(S0_list[j],K_list[i],r_list[k],sigma,T_list[t],n)\n",
    "                my_file.write(str(K_list[i])+'>>>>')\n",
    "                my_file.write(str(S0_list[j])+'>>>>')\n",
    "                my_file.write(str(T_list[t])+'>>>>')\n",
    "                my_file.write(str(r_list[k])+'>>>>')\n",
    "                my_file.write(str(sigma)+'>>>>')\n",
    "                my_file.write(str(\"%.4f\" %est) + '\\n')\n",
    "                   \n",
    "my_file.close()"
   ]
  },
  {
   "cell_type": "code",
   "execution_count": null,
   "metadata": {},
   "outputs": [],
   "source": []
  }
 ],
 "metadata": {
  "kernelspec": {
   "display_name": "Python 3",
   "language": "python",
   "name": "python3"
  },
  "language_info": {
   "codemirror_mode": {
    "name": "ipython",
    "version": 3
   },
   "file_extension": ".py",
   "mimetype": "text/x-python",
   "name": "python",
   "nbconvert_exporter": "python",
   "pygments_lexer": "ipython3",
   "version": "3.7.4"
  }
 },
 "nbformat": 4,
 "nbformat_minor": 2
}

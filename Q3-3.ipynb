{
 "cells": [
  {
   "cell_type": "code",
   "execution_count": 1,
   "metadata": {},
   "outputs": [
    {
     "name": "stdout",
     "output_type": "stream",
     "text": [
      "Please type 'open' to start the app \n",
      "open\n",
      "Please enter new command \n",
      "entry\n",
      "Russian word \n",
      "suka\n",
      "English word \n",
      "bitch\n",
      "Word was successfully added in a dictioanry\n",
      "Please enter new command \n",
      "all\n",
      "English>>>Russian\n",
      "bitch >>> suka\n",
      "Please enter new command \n",
      "Rustoeng_me\n",
      "Word is not found\n",
      "Please enter new command \n",
      "Rustoeng_suka\n",
      "Translation: bitch\n",
      "Please enter new command \n",
      "Engtorus_me\n",
      "Word is not found\n",
      "Please enter new command \n",
      "Engtoru_bitch\n",
      "Wrong command\n",
      "Please enter new command \n",
      "Engtorus_bitch\n",
      "Translation: suka\n",
      "Please enter new command \n",
      "save\n",
      "Dictionary saved\n",
      "Please enter new command \n",
      "exit\n",
      "You exit the dictionary. For closing the app type 'close, for opening - 'open' \n",
      "open\n",
      "Please enter new command \n",
      "all\n",
      "English>>>Russian\n",
      "bitch >>> suka\n",
      "Please enter new command \n",
      "entry\n",
      "Russian word \n",
      "bitch\n",
      "English word \n",
      "suka\n",
      "Word was successfully added in a dictioanry\n",
      "Please enter new command \n",
      "entry\n",
      "Russian word \n",
      "suka\n",
      "English word \n",
      "orospu\n",
      "This word is already in a dictionary\n",
      "Please enter new command \n",
      "entry\n",
      "Russian word \n",
      "orospu\n",
      "English word \n",
      "bitch\n",
      "This word is already in a dictionary\n",
      "Please enter new command \n",
      "all\n",
      "English>>>Russian\n",
      "bitch >>> suka\n",
      "suka >>> bitch\n",
      "Please enter new command \n",
      "exit\n",
      "You exit the dictionary. For closing the app type 'close, for opening - 'open' \n",
      "open\n",
      "Please enter new command \n",
      "all\n",
      "English>>>Russian\n",
      "bitch >>> suka\n",
      "Please enter new command \n",
      "exit\n",
      "You exit the dictionary. For closing the app type 'close, for opening - 'open' \n",
      "close\n"
     ]
    }
   ],
   "source": [
    "voc_rus = []\n",
    "voc_eng = []\n",
    "saved_voc_rus = []\n",
    "saved_voc_eng = []\n",
    "open_app = input(\"Please type 'open' to start the app \\n\")\n",
    "while(open_app != 'open'):\n",
    "    print(\"You decided not to open the app.\")\n",
    "    open_app = input(\"Please type 'open' to start the app \\n\")\n",
    "while (open_app == 'open'):\n",
    "    voc_rus = saved_voc_rus.copy()\n",
    "    voc_eng = saved_voc_eng.copy()\n",
    "    answer = input(\"Please enter new command \\n\")\n",
    "    while (answer != 'exit'):\n",
    "        if (answer == 'help'):\n",
    "            print('=====================================================================================\\n'\n",
    "'To ENTER a new value in the dictionary first type:\\n'\n",
    "'entry \\n'\n",
    "'Then write words: \\n'\n",
    "'Russian word: <Russian_word>\\n'\n",
    "'English word: <English_translation>\\n'\n",
    "'=====================================================================================\\n'\n",
    "'To QUERY a words translation in Russian language:\\n '\n",
    "'Engtorus_<word_in_English_language>\\n'\n",
    "'To QUERY a words translation in English language:\\n '\n",
    "'Rustoeng_<word_in_Russian_language>\\n'\n",
    "'=====================================================================================\\n'\n",
    "'To see the full dictionary, enter \"all\" \\n'\n",
    "'=====================================================================================\\n'\n",
    "'To save the entries, enter the command \"save\" \\n'\n",
    "'=====================================================================================\\n'\n",
    "'to leave the app, imply type \"exit\"')\n",
    "        elif (answer == 'entry'):\n",
    "            rus = input(\"Russian word \\n\")\n",
    "            eng = input(\"English word \\n\")\n",
    "            if (rus == '') and (eng == ''):\n",
    "                print('You did not input any words.')\n",
    "            elif (rus == '') and (eng != ''):\n",
    "                print('You did not input russian word.')\n",
    "            elif (rus != '') and (eng == ''):\n",
    "                print('You did not input english word. ')\n",
    "            elif (rus != '') and (eng != ''):\n",
    "                newword = 1\n",
    "                for i in range(len(voc_rus)):    \n",
    "                    if (voc_rus[i] == rus) or (voc_eng[i] == eng):\n",
    "                        print('This word is already in a dictionary')\n",
    "                        newword = 0\n",
    "                if newword == 1:\n",
    "                    voc_rus.append(rus)\n",
    "                    voc_eng.append(eng)\n",
    "                    print(\"Word was successfully added in a dictioanry\")\n",
    "\n",
    "        elif (answer.startswith('Engtorus_') == True):\n",
    "            answer1 = answer.replace(\"Engtorus_\", \"\")\n",
    "            if (answer1 == ''):\n",
    "                print('Word for translation is not defined')\n",
    "            else:\n",
    "                word = 0\n",
    "                for i in range(len(voc_eng)):\n",
    "                    if (voc_eng[i] == answer1):\n",
    "                        print('Translation:', voc_rus[i])\n",
    "                        word = 1\n",
    "                if word == 0:\n",
    "                    print('Word is not found')\n",
    "        \n",
    "                \n",
    "        elif (answer.startswith('Rustoeng_') == True):\n",
    "            answer1 = answer.replace(\"Rustoeng_\", \"\")\n",
    "            if (answer1 == ''):\n",
    "                print('Word for translation is not defined')\n",
    "            else:\n",
    "                word = 0\n",
    "                for i in range(len(voc_rus)):\n",
    "                    if (voc_rus[i] == answer1):\n",
    "                        print('Translation:', voc_eng[i])\n",
    "                        word = 1\n",
    "                if word == 0:\n",
    "                    print('Word is not found')\n",
    "    \n",
    "                \n",
    "            \n",
    "\n",
    "\n",
    "        elif (answer == 'all'):\n",
    "            if (voc_eng == []):\n",
    "                print(\"No words in a dictionary\")\n",
    "            else:\n",
    "                print('English>>>Russian')\n",
    "                for i in range(len(voc_rus)):\n",
    "                    print(voc_eng[i], '>>>', voc_rus[i])\n",
    "                    \n",
    "        elif (answer == 'save'):\n",
    "            saved_voc_rus = voc_rus.copy()\n",
    "            saved_voc_eng = voc_eng.copy()\n",
    "            print('Dictionary saved')\n",
    "                \n",
    "        else:\n",
    "            print('Wrong command')  \n",
    "        answer = input(\"Please enter new command \\n\")\n",
    "    if (answer == 'exit'):\n",
    "        open_app = input(\"You exit the dictionary. For closing the app type 'close, for opening - 'open' \\n\")\n",
    "        if (open_app == 'close'):\n",
    "            break\n",
    "            \n",
    "        while (open_app != 'close') and (open_app != 'open'):\n",
    "            print('Wrong command')\n",
    "            open_app = input(\"Please type 'open' to start the app or type 'close' to close it\\n\")\n",
    "            if (open_app == 'close'):\n",
    "                break\n",
    "            \n",
    "        \n",
    "        "
   ]
  },
  {
   "cell_type": "code",
   "execution_count": 2,
   "metadata": {},
   "outputs": [
    {
     "data": {
      "text/plain": [
       "['suka']"
      ]
     },
     "execution_count": 2,
     "metadata": {},
     "output_type": "execute_result"
    }
   ],
   "source": [
    "voc_rus"
   ]
  },
  {
   "cell_type": "code",
   "execution_count": 3,
   "metadata": {},
   "outputs": [
    {
     "data": {
      "text/plain": [
       "'bitch'"
      ]
     },
     "execution_count": 3,
     "metadata": {},
     "output_type": "execute_result"
    }
   ],
   "source": [
    "answer1"
   ]
  },
  {
   "cell_type": "code",
   "execution_count": 4,
   "metadata": {},
   "outputs": [
    {
     "data": {
      "text/plain": [
       "False"
      ]
     },
     "execution_count": 4,
     "metadata": {},
     "output_type": "execute_result"
    }
   ],
   "source": [
    "answer1 in voc_rus"
   ]
  },
  {
   "cell_type": "code",
   "execution_count": 5,
   "metadata": {},
   "outputs": [
    {
     "data": {
      "text/plain": [
       "'orospu'"
      ]
     },
     "execution_count": 5,
     "metadata": {},
     "output_type": "execute_result"
    }
   ],
   "source": [
    "rus"
   ]
  },
  {
   "cell_type": "code",
   "execution_count": 6,
   "metadata": {},
   "outputs": [
    {
     "data": {
      "text/plain": [
       "'bitch'"
      ]
     },
     "execution_count": 6,
     "metadata": {},
     "output_type": "execute_result"
    }
   ],
   "source": [
    "eng"
   ]
  },
  {
   "cell_type": "code",
   "execution_count": null,
   "metadata": {},
   "outputs": [],
   "source": []
  }
 ],
 "metadata": {
  "kernelspec": {
   "display_name": "Python 3",
   "language": "python",
   "name": "python3"
  },
  "language_info": {
   "codemirror_mode": {
    "name": "ipython",
    "version": 3
   },
   "file_extension": ".py",
   "mimetype": "text/x-python",
   "name": "python",
   "nbconvert_exporter": "python",
   "pygments_lexer": "ipython3",
   "version": "3.7.4"
  }
 },
 "nbformat": 4,
 "nbformat_minor": 2
}

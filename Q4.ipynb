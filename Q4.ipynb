{
 "cells": [
  {
   "cell_type": "code",
   "execution_count": 1,
   "metadata": {},
   "outputs": [],
   "source": [
    "import numpy as np\n",
    "import random\n",
    "random.seed(100)\n",
    "import matplotlib.pyplot as plt"
   ]
  },
  {
   "cell_type": "markdown",
   "metadata": {},
   "source": [
    "# a)"
   ]
  },
  {
   "cell_type": "code",
   "execution_count": 2,
   "metadata": {},
   "outputs": [],
   "source": [
    "def board_create():\n",
    "    A = np.matrix(' \"0\" ,\"0\",\"0\";\"0\",\"0\",\"0\";\"0\",\"0\",\"0\"')\n",
    "    return (A)"
   ]
  },
  {
   "cell_type": "code",
   "execution_count": 3,
   "metadata": {},
   "outputs": [
    {
     "data": {
      "text/plain": [
       "matrix([['0', '0', '0'],\n",
       "        ['0', '0', '0'],\n",
       "        ['0', '0', '0']], dtype='<U1')"
      ]
     },
     "execution_count": 3,
     "metadata": {},
     "output_type": "execute_result"
    }
   ],
   "source": [
    "K = board_create()\n",
    "K"
   ]
  },
  {
   "cell_type": "code",
   "execution_count": 4,
   "metadata": {},
   "outputs": [],
   "source": [
    "def free_space (A):\n",
    "    R = []\n",
    "    for i in range (len(A)):\n",
    "        for j in range (len(A)):\n",
    "            if (A[i,j] == \"0\"):\n",
    "                R.append([i,j])\n",
    "            \n",
    "    return (R)\n",
    "        \n",
    "    "
   ]
  },
  {
   "cell_type": "code",
   "execution_count": 5,
   "metadata": {},
   "outputs": [
    {
     "data": {
      "text/plain": [
       "[[0, 0], [0, 1], [0, 2], [1, 0], [1, 1], [1, 2], [2, 0], [2, 1], [2, 2]]"
      ]
     },
     "execution_count": 5,
     "metadata": {},
     "output_type": "execute_result"
    }
   ],
   "source": [
    "M = free_space(K)\n",
    "M"
   ]
  },
  {
   "cell_type": "code",
   "execution_count": 6,
   "metadata": {},
   "outputs": [],
   "source": [
    "def put_mark_random(char, A):\n",
    "    if (free_space(A) != []):\n",
    "        M = free_space(A)\n",
    "        q = random.randint(0, len(M)-1)\n",
    "        x = M[q][0]\n",
    "        y = M[q][1]\n",
    "        A[x,y] = char\n",
    "        return 1\n",
    "    else:\n",
    "        return 0\n",
    "        "
   ]
  },
  {
   "cell_type": "markdown",
   "metadata": {},
   "source": [
    "We will play with x and y"
   ]
  },
  {
   "cell_type": "code",
   "execution_count": 7,
   "metadata": {},
   "outputs": [
    {
     "data": {
      "text/plain": [
       "matrix([['0', '0', '0'],\n",
       "        ['0', '0', '0'],\n",
       "        ['0', '0', '0']], dtype='<U1')"
      ]
     },
     "execution_count": 7,
     "metadata": {},
     "output_type": "execute_result"
    }
   ],
   "source": [
    "K"
   ]
  },
  {
   "cell_type": "code",
   "execution_count": 8,
   "metadata": {},
   "outputs": [],
   "source": [
    "def win_line (A,char):\n",
    "    check = False\n",
    "    for i in range (len(A)):\n",
    "        if (A[i,0] == A[i,1] == A[i,2] == char):\n",
    "            check = True\n",
    "            \n",
    "    return check\n",
    "    \n",
    "            "
   ]
  },
  {
   "cell_type": "code",
   "execution_count": 9,
   "metadata": {},
   "outputs": [
    {
     "data": {
      "text/plain": [
       "0"
      ]
     },
     "execution_count": 9,
     "metadata": {},
     "output_type": "execute_result"
    }
   ],
   "source": [
    "put_mark_random(\"x\",K)\n",
    "put_mark_random(\"y\",K)\n",
    "put_mark_random(\"x\",K)\n",
    "put_mark_random(\"y\",K)\n",
    "put_mark_random(\"x\",K)\n",
    "put_mark_random(\"y\",K)\n",
    "put_mark_random(\"x\",K)\n",
    "put_mark_random(\"y\",K)\n",
    "put_mark_random(\"x\",K)\n",
    "put_mark_random(\"x\",K)"
   ]
  },
  {
   "cell_type": "code",
   "execution_count": 10,
   "metadata": {},
   "outputs": [
    {
     "data": {
      "text/plain": [
       "matrix([['y', 'y', 'x'],\n",
       "        ['x', 'x', 'y'],\n",
       "        ['x', 'x', 'y']], dtype='<U1')"
      ]
     },
     "execution_count": 10,
     "metadata": {},
     "output_type": "execute_result"
    }
   ],
   "source": [
    "K"
   ]
  },
  {
   "cell_type": "code",
   "execution_count": 11,
   "metadata": {},
   "outputs": [
    {
     "data": {
      "text/plain": [
       "False"
      ]
     },
     "execution_count": 11,
     "metadata": {},
     "output_type": "execute_result"
    }
   ],
   "source": [
    "win_line(K,\"y\")"
   ]
  },
  {
   "cell_type": "code",
   "execution_count": 12,
   "metadata": {},
   "outputs": [],
   "source": [
    "def win_column (A,char):\n",
    "    check = False\n",
    "    for j in range (len(A)):\n",
    "        if (A[0,j] == A[1,j] == A[2,j] == char):\n",
    "            check = True\n",
    "            \n",
    "    return check"
   ]
  },
  {
   "cell_type": "code",
   "execution_count": 13,
   "metadata": {},
   "outputs": [],
   "source": [
    "def win_diag (A,char):\n",
    "    check = False\n",
    "    if (A[0,0] == A[1,1] == A[2,2] == char) or (A[0,2] == A[1,1] == A[2,0] == char):\n",
    "        check = True\n",
    "    return check"
   ]
  },
  {
   "cell_type": "code",
   "execution_count": 14,
   "metadata": {},
   "outputs": [
    {
     "data": {
      "text/plain": [
       "matrix([['x', 'x', 'y'],\n",
       "        ['y', 'y', 'x'],\n",
       "        ['x', 'y', 'x']], dtype='<U1')"
      ]
     },
     "execution_count": 14,
     "metadata": {},
     "output_type": "execute_result"
    }
   ],
   "source": [
    "win_diag (K,\"x\")\n",
    "test = np.matrix(' \"x\" ,\"x\",\"y\";\"y\",\"y\",\"x\";\"x\",\"y\",\"x\"')\n",
    "test"
   ]
  },
  {
   "cell_type": "code",
   "execution_count": 15,
   "metadata": {},
   "outputs": [],
   "source": [
    "def winner_is (A, char1,char2):\n",
    "    winner = 'no answer'\n",
    "    if (win_line(A, char1) or win_column(A,char1) or win_diag(A,char1)): \n",
    "        winner = char1\n",
    "    if (win_line(A, char2) or win_column(A,char2) or win_diag(A,char2)): \n",
    "        winner = char2\n",
    "    if (win_line(A, char2) or win_column(A,char2) or win_diag(A,char2)) and (win_line(A, char1) or win_column(A,char1) or win_diag(A,char1)): \n",
    "        winner = char1\n",
    "    if (winner!= char1) and (winner!=char2) and (free_space(A) == []):\n",
    "        winner = 'no winner'\n",
    "    return winner"
   ]
  },
  {
   "cell_type": "code",
   "execution_count": 16,
   "metadata": {},
   "outputs": [
    {
     "data": {
      "text/plain": [
       "[]"
      ]
     },
     "execution_count": 16,
     "metadata": {},
     "output_type": "execute_result"
    }
   ],
   "source": [
    "winner_is(test,\"x\",\"y\")\n",
    "free_space(test)"
   ]
  },
  {
   "cell_type": "code",
   "execution_count": 17,
   "metadata": {},
   "outputs": [
    {
     "data": {
      "text/plain": [
       "'x'"
      ]
     },
     "execution_count": 17,
     "metadata": {},
     "output_type": "execute_result"
    }
   ],
   "source": [
    "winner_is(K,\"x\",\"y\")"
   ]
  },
  {
   "cell_type": "markdown",
   "metadata": {},
   "source": [
    "Start of the game"
   ]
  },
  {
   "cell_type": "code",
   "execution_count": 18,
   "metadata": {},
   "outputs": [],
   "source": [
    "def game(char1,char2):\n",
    "   \n",
    "    board = board_create()\n",
    "    answer = winner_is(board,char1,char2)\n",
    "    while (answer == 'no answer'):\n",
    "        put_mark_random(char1,board)\n",
    "        put_mark_random(char2,board)\n",
    "        answer = winner_is(board,char1,char2)\n",
    "        #print (board)\n",
    "    return answer\n",
    "        \n"
   ]
  },
  {
   "cell_type": "code",
   "execution_count": 19,
   "metadata": {},
   "outputs": [
    {
     "data": {
      "text/plain": [
       "'y'"
      ]
     },
     "execution_count": 19,
     "metadata": {},
     "output_type": "execute_result"
    }
   ],
   "source": [
    "k = game('x','y')\n",
    "k"
   ]
  },
  {
   "cell_type": "markdown",
   "metadata": {},
   "source": [
    "# b)"
   ]
  },
  {
   "cell_type": "code",
   "execution_count": 20,
   "metadata": {},
   "outputs": [
    {
     "name": "stdout",
     "output_type": "stream",
     "text": [
      "Enter mark of the player 1 \n",
      "x\n",
      "Enter mark of the player 2 \n",
      "y\n",
      "604 270 126\n"
     ]
    }
   ],
   "source": [
    "nw = 0\n",
    "ch1 = 0\n",
    "ch2 = 0\n",
    "char1 = input(\"Enter mark of the player 1 \\n\")\n",
    "char2 = input(\"Enter mark of the player 2 \\n\")\n",
    "for i in range(0,1000):\n",
    "    k = game(char1,char2)\n",
    "    if (k == 'x'):\n",
    "        ch1 = ch1+1\n",
    "    if (k == 'y'):\n",
    "        ch2 = ch2+1\n",
    "    if (k == 'no winner'):\n",
    "        nw = nw+1\n",
    "        \n",
    "print (ch1, ch2, nw)\n",
    "perc_1 = ch1/(ch1+ch2+nw)\n",
    "perc_2 = ch2/(ch1+ch2+nw)\n",
    "perc_nw = nw/(ch1+ch2+nw)"
   ]
  },
  {
   "cell_type": "code",
   "execution_count": 21,
   "metadata": {},
   "outputs": [
    {
     "data": {
      "image/png": "[encoded data removed]",
      "text/plain": [
       "<Figure size 432x288 with 1 Axes>"
      ]
     },
     "metadata": {},
     "output_type": "display_data"
    }
   ],
   "source": [
    "labels = 'Player 1', 'Player 2', 'No winner'\n",
    "sizes = [ch1, ch2, nw]\n",
    "colors = ['gold', 'yellowgreen', 'lightcoral']\n",
    "# Plot\n",
    "plt.pie(sizes,  labels=labels, colors=colors,autopct='%1.1f%%', shadow=True, startangle=140)\n",
    "plt.axis('equal')\n",
    "plt.show()\n",
    "\n"
   ]
  },
  {
   "cell_type": "markdown",
   "metadata": {},
   "source": [
    "# c)"
   ]
  },
  {
   "cell_type": "markdown",
   "metadata": {},
   "source": [
    "making board with mark in the center"
   ]
  },
  {
   "cell_type": "code",
   "execution_count": 22,
   "metadata": {},
   "outputs": [],
   "source": [
    "def game_new(char1,char2):\n",
    "   \n",
    "    board = board_create()\n",
    "    answer = winner_is(board,char1,char2)\n",
    "    board[1,1] = char1\n",
    "    put_mark_random(char2,board)\n",
    "    while (answer == 'no answer'):\n",
    "        put_mark_random(char1,board)\n",
    "        put_mark_random(char2,board)\n",
    "        answer = winner_is(board,char1,char2)\n",
    "        #print (board)\n",
    "    return answer"
   ]
  },
  {
   "cell_type": "code",
   "execution_count": 23,
   "metadata": {},
   "outputs": [
    {
     "data": {
      "text/plain": [
       "'x'"
      ]
     },
     "execution_count": 23,
     "metadata": {},
     "output_type": "execute_result"
    }
   ],
   "source": [
    "game_new('x','y')\n"
   ]
  },
  {
   "cell_type": "markdown",
   "metadata": {},
   "source": [
    "# d)"
   ]
  },
  {
   "cell_type": "code",
   "execution_count": 24,
   "metadata": {},
   "outputs": [
    {
     "name": "stdout",
     "output_type": "stream",
     "text": [
      "Enter mark of the player 1 \n",
      "x\n",
      "Enter mark of the player 2 \n",
      "y\n",
      "685 197 118\n"
     ]
    }
   ],
   "source": [
    "nw = 0\n",
    "ch1 = 0\n",
    "ch2 = 0\n",
    "char1 = input(\"Enter mark of the player 1 \\n\")\n",
    "char2 = input(\"Enter mark of the player 2 \\n\")\n",
    "for i in range(0,1000):\n",
    "    k = game_new(char1,char2)\n",
    "    if (k == 'x'):\n",
    "        ch1 = ch1+1\n",
    "    if (k == 'y'):\n",
    "        ch2 = ch2+1\n",
    "    if (k == 'no winner'):\n",
    "        nw = nw+1\n",
    "        \n",
    "print (ch1, ch2, nw)\n",
    "perc_1 = ch1/(ch1+ch2+nw)\n",
    "perc_2 = ch2/(ch1+ch2+nw)\n",
    "perc_nw = nw/(ch1+ch2+nw)"
   ]
  },
  {
   "cell_type": "code",
   "execution_count": 25,
   "metadata": {},
   "outputs": [
    {
     "data": {
      "image/png": "[encoded data removed]",
      "text/plain": [
       "<Figure size 432x288 with 1 Axes>"
      ]
     },
     "metadata": {},
     "output_type": "display_data"
    }
   ],
   "source": [
    "labels = 'Player 1', 'Player 2', 'No winner'\n",
    "sizes = [ch1, ch2, nw]\n",
    "colors = ['gold', 'yellowgreen', 'lightcoral']\n",
    "# Plot\n",
    "plt.pie(sizes,  labels=labels, colors=colors,autopct='%1.1f%%', shadow=True, startangle=140)\n",
    "plt.axis('equal')\n",
    "plt.show()"
   ]
  }
 ],
 "metadata": {
  "kernelspec": {
   "display_name": "Python 3",
   "language": "python",
   "name": "python3"
  },
  "language_info": {
   "codemirror_mode": {
    "name": "ipython",
    "version": 3
   },
   "file_extension": ".py",
   "mimetype": "text/x-python",
   "name": "python",
   "nbconvert_exporter": "python",
   "pygments_lexer": "ipython3",
   "version": "3.7.4"
  }
 },
 "nbformat": 4,
 "nbformat_minor": 2
}

{
 "cells": [
  {
   "cell_type": "code",
   "execution_count": 1,
   "metadata": {},
   "outputs": [],
   "source": [
    "import numpy as np\n",
    "import matplotlib.pyplot as plt\n"
   ]
  },
  {
   "cell_type": "code",
   "execution_count": 2,
   "metadata": {},
   "outputs": [
    {
     "data": {
      "image/png": "[encoded data removed]",
      "text/plain": [
       "<Figure size 432x288 with 1 Axes>"
      ]
     },
     "metadata": {
      "needs_background": "light"
     },
     "output_type": "display_data"
    }
   ],
   "source": [
    "np.random.seed(1234564)\n",
    "L = 40\n",
    "C = 60\n",
    "maze = (np.random.uniform(size=(L,C))>0.2)*1\n",
    "maze[0,0] = -1\n",
    "maze[-1,-1] = 3\n",
    "plt.imshow(maze)\n",
    "plt.show()"
   ]
  },
  {
   "cell_type": "code",
   "execution_count": 3,
   "metadata": {},
   "outputs": [],
   "source": [
    "L = np.random.randint(0,100)\n",
    "C = np.random.randint(0,100)"
   ]
  },
  {
   "cell_type": "code",
   "execution_count": 4,
   "metadata": {},
   "outputs": [
    {
     "data": {
      "image/png": "[encoded data removed]",
      "text/plain": [
       "<Figure size 432x288 with 1 Axes>"
      ]
     },
     "metadata": {
      "needs_background": "light"
     },
     "output_type": "display_data"
    }
   ],
   "source": [
    "maze = (np.random.uniform(size=(L,C))>0.2)*1\n",
    "maze[0,0] = -1\n",
    "maze[-1,-1] = 3\n",
    "plt.imshow(maze)\n",
    "plt.show()\n"
   ]
  },
  {
   "cell_type": "code",
   "execution_count": 5,
   "metadata": {},
   "outputs": [
    {
     "data": {
      "text/plain": [
       "array([[-1,  0,  1, ...,  1,  0,  1],\n",
       "       [ 1,  1,  1, ...,  1,  1,  0],\n",
       "       [ 1,  1,  0, ...,  0,  1,  1],\n",
       "       ...,\n",
       "       [ 0,  1,  1, ...,  1,  1,  1],\n",
       "       [ 1,  0,  1, ...,  1,  1,  1],\n",
       "       [ 1,  1,  0, ...,  1,  0,  3]])"
      ]
     },
     "execution_count": 5,
     "metadata": {},
     "output_type": "execute_result"
    }
   ],
   "source": [
    "maze"
   ]
  },
  {
   "cell_type": "code",
   "execution_count": 6,
   "metadata": {},
   "outputs": [],
   "source": [
    "def empty_maze(L,C):\n",
    "    maze =np.zeros((L,C), dtype=int)\n",
    "    return maze"
   ]
  },
  {
   "cell_type": "code",
   "execution_count": 7,
   "metadata": {},
   "outputs": [
    {
     "data": {
      "text/plain": [
       "99"
      ]
     },
     "execution_count": 7,
     "metadata": {},
     "output_type": "execute_result"
    }
   ],
   "source": [
    "C"
   ]
  },
  {
   "cell_type": "code",
   "execution_count": 8,
   "metadata": {},
   "outputs": [
    {
     "data": {
      "text/plain": [
       "22"
      ]
     },
     "execution_count": 8,
     "metadata": {},
     "output_type": "execute_result"
    }
   ],
   "source": [
    "L"
   ]
  },
  {
   "cell_type": "code",
   "execution_count": 9,
   "metadata": {},
   "outputs": [
    {
     "data": {
      "text/plain": [
       "array([[0, 0, 0, ..., 0, 0, 0],\n",
       "       [0, 0, 0, ..., 0, 0, 0],\n",
       "       [0, 0, 0, ..., 0, 0, 0],\n",
       "       ...,\n",
       "       [0, 0, 0, ..., 0, 0, 0],\n",
       "       [0, 0, 0, ..., 0, 0, 0],\n",
       "       [0, 0, 0, ..., 0, 0, 0]])"
      ]
     },
     "execution_count": 9,
     "metadata": {},
     "output_type": "execute_result"
    }
   ],
   "source": [
    "empty_maze(L,C)"
   ]
  },
  {
   "cell_type": "code",
   "execution_count": 10,
   "metadata": {},
   "outputs": [],
   "source": [
    "def is_it_wall(maze,x,y):\n",
    "    if (maze[x,y] == 0):\n",
    "        return True\n",
    "    else:\n",
    "        return False\n",
    "    "
   ]
  },
  {
   "cell_type": "code",
   "execution_count": 11,
   "metadata": {},
   "outputs": [
    {
     "data": {
      "text/plain": [
       "False"
      ]
     },
     "execution_count": 11,
     "metadata": {},
     "output_type": "execute_result"
    }
   ],
   "source": [
    "is_it_wall(maze,1,1)"
   ]
  },
  {
   "cell_type": "code",
   "execution_count": 12,
   "metadata": {},
   "outputs": [],
   "source": [
    "def boarder_up(maze,x,y):\n",
    "    if (x == 0):\n",
    "        return True\n",
    "    else:\n",
    "        return False"
   ]
  },
  {
   "cell_type": "code",
   "execution_count": 13,
   "metadata": {},
   "outputs": [],
   "source": [
    "def boarder_down(maze,x,y):\n",
    "    if (x == C-1):\n",
    "        return True\n",
    "    else:\n",
    "        return False"
   ]
  },
  {
   "cell_type": "code",
   "execution_count": 14,
   "metadata": {},
   "outputs": [],
   "source": [
    "def boarder_left(maze,x,y):\n",
    "    if (y == 0):\n",
    "        return True\n",
    "    else:\n",
    "        return False"
   ]
  },
  {
   "cell_type": "code",
   "execution_count": 15,
   "metadata": {},
   "outputs": [],
   "source": [
    "def boarder_right(maze,x,y):\n",
    "    if (y == L-1):\n",
    "        return True\n",
    "    else:\n",
    "        return False"
   ]
  },
  {
   "cell_type": "code",
   "execution_count": 16,
   "metadata": {},
   "outputs": [],
   "source": [
    "def make_number(maze, maze0,x,y,k):\n",
    "    if (boarder_up(maze,x,y) == True) and (boarder_left(maze,x,y) == False) and (boarder_right(maze,x,y)==False):\n",
    "        if (maze[x,y+1] != 0 ) and (maze0[x,y+1] == 0):\n",
    "            maze0[x,y+1] = k\n",
    "        if (maze[x+1,y] != 0 ) and (maze0[x+1,y] == 0):\n",
    "            maze0[x+1,y] = k\n",
    "        if (maze[x,y+1] == 0) and (maze[x+1,y] == 0):\n",
    "            return 'No way'\n",
    "        \n",
    "    if (boarder_down(maze,x,y) == True) and (boarder_left(maze,x,y) == False) and (boarder_right(maze,x,y)==False):\n",
    "        if (maze[x,y+1] != 0 ) and (maze0[x,y+1] == 0):\n",
    "            maze0[x,y+1] = k\n",
    "        if (maze[x,y+1] == 0):\n",
    "            return 'No way'\n",
    "    \n",
    "    if (boarder_left(maze,x,y) == True) and (boarder_up(maze,x,y) == False) and (boarder_down(maze,x,y)==False):\n",
    "        if (maze[x,y+1] != 0 ) and (maze0[x,y+1] == 0):\n",
    "            maze0[x,y+1] = k\n",
    "        if (maze[x+1,y] != 0 ) and (maze0[x+1,y] == 0):\n",
    "            maze0[x+1,y] = k\n",
    "        if (maze[x,y+1] == 0) and (maze[x+1,y] == 0):\n",
    "            return 'No way'\n",
    "        \n",
    "    if (boarder_right(maze,x,y) == True) and (boarder_up(maze,x,y) == False) and (boarder_down(maze,x,y)==False):\n",
    "        if (maze[x+1,y] != 0 ) and (maze0[x+1,y] == 0):\n",
    "            maze0[x+1,y] = k \n",
    "        if  (maze[x+1,y] == 0):\n",
    "            return 'No way'\n",
    "        \n",
    "    if (boarder_up(maze,x,y) == True) and (boarder_left(maze,x,y) == True):\n",
    "        if (maze[x,y+1] != 0 ) and (maze0[x,y+1] == 0):\n",
    "            maze0[x,y+1] = k\n",
    "        if (maze[x+1,y] != 0 ) and (maze0[x+1,y] == 0):\n",
    "            maze0[x+1,y] = k \n",
    "        if (maze[x,y+1] == 0) and (maze[x+1,y] == 0):\n",
    "            return 'No way'\n",
    "        \n",
    "    if (boarder_up(maze,x,y) == True) and (boarder_right(maze,x,y) == True):\n",
    "        if (maze[x+1,y] != 0 ) and (maze0[x+1,y] == 0):\n",
    "            maze0[x+1,y] = k \n",
    "        if (maze[x+1,y] == 0):\n",
    "            return 'No way'\n",
    "        \n",
    "    if (boarder_down(maze,x,y) == True) and (boarder_left(maze,x,y) == True):\n",
    "        if (maze[x,y+1] != 0 ) and (maze0[x,y+1] == 0):\n",
    "            maze0[x,y+1] = k  \n",
    "        if (maze[x,y+1] == 0):\n",
    "            return 'No way'\n",
    "        \n",
    "    if (boarder_down(maze,x,y) == False) and (boarder_right(maze,x,y) == False) and (boarder_up(maze,x,y) == False) and (boarder_right(maze,x,y) == False):\n",
    "        if (maze[x,y+1] != 0 ) and (maze0[x,y+1] == 0):\n",
    "            maze0[x,y+1] = k\n",
    "        if (maze[x+1,y] != 0 ) and (maze0[x+1,y] == 0):\n",
    "            maze0[x+1,y] = k \n",
    "        if (maze[x,y+1] == 0) and (maze[x+1,y] == 0):\n",
    "            return 'No way'\n",
    "    "
   ]
  },
  {
   "cell_type": "code",
   "execution_count": 17,
   "metadata": {},
   "outputs": [],
   "source": [
    "def find_c (maze0,L,C,k):\n",
    "    A = []\n",
    "    for i in range (0,L):\n",
    "        for j in range (0,C):\n",
    "            if (maze0[i,j] == k):\n",
    "                A.append([i,j])\n",
    "    return A\n",
    "                "
   ]
  },
  {
   "cell_type": "code",
   "execution_count": 18,
   "metadata": {},
   "outputs": [],
   "source": [
    "maze0 =empty_maze(L,C)\n",
    "k = 1\n",
    "x = 0\n",
    "y = 0\n",
    "N = make_number(maze,maze0,x,y,k)"
   ]
  },
  {
   "cell_type": "code",
   "execution_count": 20,
   "metadata": {},
   "outputs": [
    {
     "data": {
      "text/plain": [
       "array([[0, 0, 0, ..., 0, 0, 0],\n",
       "       [1, 1, 0, ..., 0, 0, 0],\n",
       "       [1, 0, 0, ..., 0, 0, 0],\n",
       "       ...,\n",
       "       [0, 0, 0, ..., 0, 0, 0],\n",
       "       [0, 0, 0, ..., 0, 0, 0],\n",
       "       [0, 0, 0, ..., 0, 0, 0]])"
      ]
     },
     "execution_count": 20,
     "metadata": {},
     "output_type": "execute_result"
    }
   ],
   "source": [
    "maze0"
   ]
  },
  {
   "cell_type": "code",
   "execution_count": 21,
   "metadata": {},
   "outputs": [
    {
     "ename": "KeyboardInterrupt",
     "evalue": "",
     "output_type": "error",
     "traceback": [
      "\u001b[0;31m---------------------------------------------------------------------------\u001b[0m",
      "\u001b[0;31mKeyboardInterrupt\u001b[0m                         Traceback (most recent call last)",
      "\u001b[0;32m<ipython-input-21-4f04cf05bdc3>\u001b[0m in \u001b[0;36m<module>\u001b[0;34m\u001b[0m\n\u001b[1;32m      1\u001b[0m \u001b[0;32mwhile\u001b[0m \u001b[0;34m(\u001b[0m\u001b[0mmaze\u001b[0m\u001b[0;34m[\u001b[0m\u001b[0mx\u001b[0m\u001b[0;34m,\u001b[0m\u001b[0my\u001b[0m\u001b[0;34m]\u001b[0m \u001b[0;34m!=\u001b[0m \u001b[0;36m3\u001b[0m\u001b[0;34m)\u001b[0m \u001b[0;32mor\u001b[0m \u001b[0;34m(\u001b[0m\u001b[0mN\u001b[0m \u001b[0;34m!=\u001b[0m \u001b[0;34m'No way'\u001b[0m\u001b[0;34m)\u001b[0m\u001b[0;34m:\u001b[0m\u001b[0;34m\u001b[0m\u001b[0;34m\u001b[0m\u001b[0m\n\u001b[0;32m----> 2\u001b[0;31m     \u001b[0mM\u001b[0m \u001b[0;34m=\u001b[0m \u001b[0mfind_c\u001b[0m\u001b[0;34m(\u001b[0m\u001b[0mmaze0\u001b[0m\u001b[0;34m,\u001b[0m\u001b[0mL\u001b[0m\u001b[0;34m,\u001b[0m\u001b[0mC\u001b[0m\u001b[0;34m,\u001b[0m\u001b[0mk\u001b[0m\u001b[0;34m)\u001b[0m\u001b[0;34m\u001b[0m\u001b[0;34m\u001b[0m\u001b[0m\n\u001b[0m\u001b[1;32m      3\u001b[0m     \u001b[0mk\u001b[0m \u001b[0;34m=\u001b[0m \u001b[0mk\u001b[0m\u001b[0;34m+\u001b[0m\u001b[0;36m1\u001b[0m\u001b[0;34m\u001b[0m\u001b[0;34m\u001b[0m\u001b[0m\n\u001b[1;32m      4\u001b[0m     \u001b[0;32mfor\u001b[0m \u001b[0mi\u001b[0m \u001b[0;32min\u001b[0m \u001b[0mrange\u001b[0m \u001b[0;34m(\u001b[0m\u001b[0;36m0\u001b[0m\u001b[0;34m,\u001b[0m \u001b[0mlen\u001b[0m\u001b[0;34m(\u001b[0m\u001b[0mM\u001b[0m\u001b[0;34m)\u001b[0m\u001b[0;34m)\u001b[0m\u001b[0;34m:\u001b[0m\u001b[0;34m\u001b[0m\u001b[0;34m\u001b[0m\u001b[0m\n\u001b[1;32m      5\u001b[0m         \u001b[0mx\u001b[0m \u001b[0;34m=\u001b[0m \u001b[0mM\u001b[0m\u001b[0;34m[\u001b[0m\u001b[0mi\u001b[0m\u001b[0;34m]\u001b[0m\u001b[0;34m[\u001b[0m\u001b[0;36m0\u001b[0m\u001b[0;34m]\u001b[0m\u001b[0;34m\u001b[0m\u001b[0;34m\u001b[0m\u001b[0m\n",
      "\u001b[0;32m<ipython-input-17-e4f9e1154535>\u001b[0m in \u001b[0;36mfind_c\u001b[0;34m(maze0, L, C, k)\u001b[0m\n\u001b[1;32m      3\u001b[0m     \u001b[0;32mfor\u001b[0m \u001b[0mi\u001b[0m \u001b[0;32min\u001b[0m \u001b[0mrange\u001b[0m \u001b[0;34m(\u001b[0m\u001b[0;36m0\u001b[0m\u001b[0;34m,\u001b[0m\u001b[0mL\u001b[0m\u001b[0;34m)\u001b[0m\u001b[0;34m:\u001b[0m\u001b[0;34m\u001b[0m\u001b[0;34m\u001b[0m\u001b[0m\n\u001b[1;32m      4\u001b[0m         \u001b[0;32mfor\u001b[0m \u001b[0mj\u001b[0m \u001b[0;32min\u001b[0m \u001b[0mrange\u001b[0m \u001b[0;34m(\u001b[0m\u001b[0;36m0\u001b[0m\u001b[0;34m,\u001b[0m\u001b[0mC\u001b[0m\u001b[0;34m)\u001b[0m\u001b[0;34m:\u001b[0m\u001b[0;34m\u001b[0m\u001b[0;34m\u001b[0m\u001b[0m\n\u001b[0;32m----> 5\u001b[0;31m             \u001b[0;32mif\u001b[0m \u001b[0;34m(\u001b[0m\u001b[0mmaze0\u001b[0m\u001b[0;34m[\u001b[0m\u001b[0mi\u001b[0m\u001b[0;34m,\u001b[0m\u001b[0mj\u001b[0m\u001b[0;34m]\u001b[0m \u001b[0;34m==\u001b[0m \u001b[0mk\u001b[0m\u001b[0;34m)\u001b[0m\u001b[0;34m:\u001b[0m\u001b[0;34m\u001b[0m\u001b[0;34m\u001b[0m\u001b[0m\n\u001b[0m\u001b[1;32m      6\u001b[0m                 \u001b[0mA\u001b[0m\u001b[0;34m.\u001b[0m\u001b[0mappend\u001b[0m\u001b[0;34m(\u001b[0m\u001b[0;34m[\u001b[0m\u001b[0mi\u001b[0m\u001b[0;34m,\u001b[0m\u001b[0mj\u001b[0m\u001b[0;34m]\u001b[0m\u001b[0;34m)\u001b[0m\u001b[0;34m\u001b[0m\u001b[0;34m\u001b[0m\u001b[0m\n\u001b[1;32m      7\u001b[0m     \u001b[0;32mreturn\u001b[0m \u001b[0mA\u001b[0m\u001b[0;34m\u001b[0m\u001b[0;34m\u001b[0m\u001b[0m\n",
      "\u001b[0;31mKeyboardInterrupt\u001b[0m: "
     ]
    }
   ],
   "source": [
    "while (maze[x,y] != 3) or (N != 'No way'):\n",
    "    M = find_c(maze0,L,C,k)\n",
    "    k = k+1\n",
    "    for i in range (0, len(M)):\n",
    "        x = M[i][0]\n",
    "        y = M[i][1]\n",
    "        N = make_number(maze,maze0,x,y,k-1)   "
   ]
  },
  {
   "cell_type": "code",
   "execution_count": 22,
   "metadata": {},
   "outputs": [
    {
     "data": {
      "text/plain": [
       "array([[0, 0, 0, ..., 0, 0, 0],\n",
       "       [1, 1, 0, ..., 0, 0, 0],\n",
       "       [1, 0, 0, ..., 0, 0, 0],\n",
       "       ...,\n",
       "       [0, 0, 0, ..., 0, 0, 0],\n",
       "       [0, 0, 0, ..., 0, 0, 0],\n",
       "       [0, 0, 0, ..., 0, 0, 0]])"
      ]
     },
     "execution_count": 22,
     "metadata": {},
     "output_type": "execute_result"
    }
   ],
   "source": [
    "maze0"
   ]
  },
  {
   "cell_type": "code",
   "execution_count": null,
   "metadata": {},
   "outputs": [],
   "source": []
  }
 ],
 "metadata": {
  "kernelspec": {
   "display_name": "Python 3",
   "language": "python",
   "name": "python3"
  },
  "language_info": {
   "codemirror_mode": {
    "name": "ipython",
    "version": 3
   },
   "file_extension": ".py",
   "mimetype": "text/x-python",
   "name": "python",
   "nbconvert_exporter": "python",
   "pygments_lexer": "ipython3",
   "version": "3.7.4"
  }
 },
 "nbformat": 4,
 "nbformat_minor": 2
}

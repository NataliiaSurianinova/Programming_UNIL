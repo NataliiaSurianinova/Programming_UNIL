{
 "cells": [
  {
   "cell_type": "code",
   "execution_count": 1,
   "metadata": {},
   "outputs": [],
   "source": [
    "import numpy as np\n",
    "import matplotlib.pyplot as plt"
   ]
  },
  {
   "cell_type": "code",
   "execution_count": 2,
   "metadata": {},
   "outputs": [
    {
     "data": {
      "image/png": "[encoded data removed]",
      "text/plain": [
       "<Figure size 432x288 with 1 Axes>"
      ]
     },
     "metadata": {
      "needs_background": "light"
     },
     "output_type": "display_data"
    }
   ],
   "source": [
    "np.random.seed(1234)\n",
    "L = 40\n",
    "C = 60\n",
    "maze = (np.random.uniform(size=(L,C))>0.2)*1\n",
    "maze[0,0] = -1\n",
    "maze[-1,-1] = 3\n",
    "plt.imshow(maze)\n",
    "plt.show()"
   ]
  },
  {
   "cell_type": "markdown",
   "metadata": {},
   "source": [
    "# Step 1"
   ]
  },
  {
   "cell_type": "code",
   "execution_count": 42,
   "metadata": {
    "scrolled": true
   },
   "outputs": [
    {
     "data": {
      "image/png": "[encoded data removed]",
      "text/plain": [
       "<Figure size 432x288 with 1 Axes>"
      ]
     },
     "metadata": {
      "needs_background": "light"
     },
     "output_type": "display_data"
    }
   ],
   "source": [
    "L = np.random.randint(0,100)\n",
    "C = np.random.randint(0,100)\n",
    "maze = (np.random.uniform(size=(L,C))>0.2)*1\n",
    "maze[0,0] = -1\n",
    "maze[-1,-1] = 3\n",
    "plt.imshow(maze)\n",
    "plt.show()"
   ]
  },
  {
   "cell_type": "code",
   "execution_count": 43,
   "metadata": {},
   "outputs": [
    {
     "data": {
      "text/plain": [
       "array([[-1,  1,  1,  0,  0,  1,  1,  0,  1,  1,  0,  1,  1,  1,  1,  1,\n",
       "         1,  0,  1,  1,  1,  1,  0,  1,  1,  1,  1,  1,  1,  1,  1,  1,\n",
       "         1,  1,  0,  1,  1,  1,  1,  1,  1,  1,  1,  1,  1,  1,  1,  1,\n",
       "         1,  1,  0,  1,  1,  1,  0,  1,  1,  1,  1,  1,  1,  1,  1,  1,\n",
       "         1],\n",
       "       [ 0,  1,  1,  1,  1,  1,  1,  1,  1,  1,  1,  1,  1,  1,  1,  1,\n",
       "         1,  0,  1,  1,  0,  1,  1,  0,  1,  1,  0,  1,  1,  1,  1,  1,\n",
       "         1,  1,  1,  1,  0,  1,  1,  1,  1,  1,  1,  0,  1,  0,  0,  1,\n",
       "         1,  1,  1,  1,  1,  0,  1,  1,  1,  1,  1,  0,  0,  0,  1,  1,\n",
       "         1],\n",
       "       [ 1,  1,  1,  1,  1,  1,  1,  1,  1,  1,  1,  1,  1,  1,  1,  1,\n",
       "         1,  1,  1,  1,  1,  1,  1,  1,  1,  1,  1,  1,  0,  1,  1,  0,\n",
       "         1,  1,  1,  1,  0,  0,  1,  1,  0,  1,  1,  1,  1,  1,  1,  1,\n",
       "         1,  0,  1,  1,  1,  1,  0,  1,  1,  1,  1,  1,  1,  1,  1,  1,\n",
       "         1],\n",
       "       [ 0,  1,  1,  0,  1,  1,  1,  1,  1,  1,  1,  0,  1,  0,  1,  1,\n",
       "         1,  1,  1,  0,  1,  0,  1,  1,  1,  0,  1,  1,  1,  0,  1,  1,\n",
       "         0,  0,  1,  1,  1,  1,  1,  1,  0,  1,  0,  0,  1,  1,  1,  1,\n",
       "         1,  0,  1,  1,  1,  0,  1,  1,  1,  0,  1,  1,  1,  1,  1,  1,\n",
       "         1],\n",
       "       [ 1,  1,  0,  1,  1,  1,  0,  1,  0,  0,  0,  1,  1,  1,  1,  1,\n",
       "         1,  1,  1,  1,  0,  1,  1,  0,  0,  1,  1,  1,  1,  1,  1,  1,\n",
       "         1,  1,  1,  1,  0,  1,  0,  1,  0,  1,  1,  0,  1,  0,  0,  1,\n",
       "         0,  1,  1,  0,  1,  1,  0,  0,  0,  1,  1,  1,  1,  1,  1,  1,\n",
       "         3]])"
      ]
     },
     "execution_count": 43,
     "metadata": {},
     "output_type": "execute_result"
    }
   ],
   "source": [
    "maze"
   ]
  },
  {
   "cell_type": "code",
   "execution_count": 44,
   "metadata": {},
   "outputs": [],
   "source": [
    "def empty_maze(L,C):\n",
    "    maze =np.zeros((L,C), dtype=int)\n",
    "    return maze"
   ]
  },
  {
   "cell_type": "code",
   "execution_count": 45,
   "metadata": {},
   "outputs": [],
   "source": [
    "def is_it_wall(maze,x,y):\n",
    "    if (maze[x,y] == 0):\n",
    "        return True\n",
    "    else:\n",
    "        return False"
   ]
  },
  {
   "cell_type": "code",
   "execution_count": 46,
   "metadata": {},
   "outputs": [],
   "source": [
    "def border_up(maze,x,y):\n",
    "    if (x == 0):\n",
    "        return True\n",
    "    else:\n",
    "        return False"
   ]
  },
  {
   "cell_type": "code",
   "execution_count": 47,
   "metadata": {},
   "outputs": [],
   "source": [
    "def border_down(maze,x,y):\n",
    "    if (x == L-1):\n",
    "        return True\n",
    "    else:\n",
    "        return False"
   ]
  },
  {
   "cell_type": "code",
   "execution_count": 48,
   "metadata": {},
   "outputs": [],
   "source": [
    "def border_left(maze,x,y):\n",
    "    if (y == 0):\n",
    "        return True\n",
    "    else:\n",
    "        return False"
   ]
  },
  {
   "cell_type": "code",
   "execution_count": 49,
   "metadata": {},
   "outputs": [],
   "source": [
    "def border_right(maze,x,y):\n",
    "    if (y == C-1):\n",
    "        return True\n",
    "    else:\n",
    "        return False"
   ]
  },
  {
   "cell_type": "code",
   "execution_count": 50,
   "metadata": {},
   "outputs": [
    {
     "name": "stdout",
     "output_type": "stream",
     "text": [
      "No way\n",
      "[[ 0  1  2  0  0  7  8  0 10 11  0 13 14 15 16 17 18  0 22 23 24 25  0 29\n",
      "  28 29 30 31 32 33 34 35 36 37  0 39 40 41 42 43 44 45 46 47 48 49 50 51\n",
      "  52 53  0 57 58 59  0  0  0  0  0  0  0  0  0  0  0]\n",
      " [ 0  2  3  4  5  6  7  8  9 10 11 12 13 14 15 16 17  0 21 22  0 24 25  0\n",
      "  27 28  0 30 31 32 33 34 35 36 37 38  0 42 43 44 45 46 47  0 49  0  0 52\n",
      "  53 54 55 56 57  0  0  0  0  0  0  0  0  0  0  0  0]\n",
      " [ 4  3  4  5  6  7  8  9 10 11 12 13 14 15 16 17 18 19 20 21 22 23 24 25\n",
      "  26 27 28 29  0 33 34  0 36 37 38 39  0  0 44 45  0 47 48 49 50 51 52 53\n",
      "  54  0 56 57 58 59  0  0  0  0  0  0  0  0  0  0  0]\n",
      " [ 0  4  5  0  7  8  9 10 11 12 13  0 15  0 17 18 19 20 21  0 23  0 25 26\n",
      "  27  0 29 30 31  0 35 36  0  0 39 40 41 42 43 44  0 48  0  0 51 52 53 54\n",
      "  55  0 57 58 59  0  0  0  0  0  0  0  0  0  0  0  0]\n",
      " [ 6  5  0  9  8  9  0 11  0  0  0 17 16 17 18 19 20 21 22 23  0 27 26  0\n",
      "   0 31 30 31 32 33 34 35 36 37 38 39  0 43  0 45  0 49 50  0 52  0  0 55\n",
      "   0 59 58  0 60 61  0  0  0  0  0  0  0  0  0  0  0]]\n",
      "256\n"
     ]
    }
   ],
   "source": [
    "maze0 = empty_maze(L,C)\n",
    "k=0\n",
    "while (maze0[-1,-1] == 0):\n",
    "    if (k == 0):\n",
    "        if (is_it_wall(maze,1,0) == False):\n",
    "            maze0[1,0] = k+1\n",
    "        if (is_it_wall(maze,0,1) == False):\n",
    "            maze0[0,1] = k+1\n",
    "        if (is_it_wall(maze,1,0) == True) and (is_it_wall(maze,0,1) == True):\n",
    "            print(\"No way\")\n",
    "            break\n",
    "        k = k+1\n",
    "\n",
    "    if k == (L-1)*(C-1):\n",
    "        print('No way')\n",
    "        break\n",
    "    for i in range(L):\n",
    "        for j in range(C):\n",
    "            if (maze0[i,j] == k):\n",
    "                if (border_right(maze,i,j) == False):\n",
    "                    if ((maze[i,j+1] == 1) or (maze[i,j+1] == 3)) and (maze0[i,j+1] == 0):\n",
    "                        maze0[i,j+1] = k+1\n",
    "                if (border_left(maze,i,j) == False):\n",
    "                    if ((maze[i,j-1] == 1) or (maze[i,j-1] == 3)) and (maze0[i,j-1] == 0):\n",
    "                        maze0[i,j-1] = k+1\n",
    "                if (border_up(maze,i,j) == False):\n",
    "                    if ((maze[i-1,j] == 1) or (maze[i-1,j] == 3)) and (maze0[i-1,j] == 0):\n",
    "                        maze0[i-1,j] = k+1\n",
    "                if (border_down(maze,i,j) == False):\n",
    "                    if ((maze[i+1,j] == 1) or (maze[i+1,j] == 3)) and (maze0[i+1,j] == 0):\n",
    "                        maze0[i+1,j] = k+1\n",
    "            \n",
    "    k = k+1\n",
    "            \n",
    "print(maze0)\n",
    "print(k)"
   ]
  },
  {
   "cell_type": "code",
   "execution_count": 51,
   "metadata": {},
   "outputs": [
    {
     "data": {
      "text/plain": [
       "-1"
      ]
     },
     "execution_count": 51,
     "metadata": {},
     "output_type": "execute_result"
    }
   ],
   "source": [
    "maze0[-1,-1]\n",
    "maze[0,0]"
   ]
  },
  {
   "cell_type": "markdown",
   "metadata": {},
   "source": [
    "# Step 2"
   ]
  },
  {
   "cell_type": "code",
   "execution_count": 52,
   "metadata": {},
   "outputs": [
    {
     "name": "stdout",
     "output_type": "stream",
     "text": [
      "No way\n"
     ]
    },
    {
     "data": {
      "image/png": "[encoded data removed]",
      "text/plain": [
       "<Figure size 432x288 with 1 Axes>"
      ]
     },
     "metadata": {
      "needs_background": "light"
     },
     "output_type": "display_data"
    }
   ],
   "source": [
    "if (maze0[-1,-1] != 0):\n",
    "    dist = maze0[-1,-1]\n",
    "    maze[-1,-1] = 2\n",
    "    dist = dist-1\n",
    "    while (maze[0,0] == -1):\n",
    "        for i in range (L):\n",
    "            for j in range (C):\n",
    "                if dist != 0:\n",
    "                    if maze0[i,j] == dist:\n",
    "                        if (border_right(maze,i,j) == False):\n",
    "                            if (maze[i,j+1] == 2):\n",
    "                                maze[i,j] = 2\n",
    "                                dist = dist-1\n",
    "                        if (border_left(maze,i,j) == False):\n",
    "                            if (maze[i,j-1] == 2):\n",
    "                                maze[i,j] = 2\n",
    "                                dist = dist-1\n",
    "                        if (border_up(maze,i,j) == False):\n",
    "                            if (maze[i-1,j] == 2):\n",
    "                                maze[i,j] = 2\n",
    "                                dist = dist-1\n",
    "                        if (border_down(maze,i,j) == False):\n",
    "                            if (maze[i+1,j] == 2):\n",
    "                                maze[i,j] = 2\n",
    "                                dist = dist-1\n",
    "                        \n",
    "                if dist == 0:\n",
    "                    maze[0,0] = 2\n",
    "                    \n",
    "else:\n",
    "    print('No way')\n",
    "plt.imshow(maze)\n",
    "plt.show()"
   ]
  }
 ],
 "metadata": {
  "kernelspec": {
   "display_name": "Python 3",
   "language": "python",
   "name": "python3"
  },
  "language_info": {
   "codemirror_mode": {
    "name": "ipython",
    "version": 3
   },
   "file_extension": ".py",
   "mimetype": "text/x-python",
   "name": "python",
   "nbconvert_exporter": "python",
   "pygments_lexer": "ipython3",
   "version": "3.7.4"
  }
 },
 "nbformat": 4,
 "nbformat_minor": 2
}
